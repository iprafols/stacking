{
 "cells": [
  {
   "cell_type": "code",
   "execution_count": 1,
   "id": "50efd109-a16c-45cc-afa3-c92460c60101",
   "metadata": {},
   "outputs": [
    {
     "name": "stdout",
     "output_type": "stream",
     "text": [
      "[WARNING]: Missing argument 'spAll' required by Dr16Reader. Looking for spAll in input directory...\n",
      "[WARNING OK]: 'spAll' file found. Contining with normal execution\n",
      "[PROGRESS]: Reading DRQ catalogue from /Users/iprafols/Documents/GitHub/stacking/stacking/tests/data/drq_catalogue_plate3655.fits.gz\n",
      "[PROGRESS]: start                 : nb object in cat = 79\n",
      "[PROGRESS]: and THING_ID > 0      : nb object in cat = 79\n",
      "[PROGRESS]: and ra != dec         : nb object in cat = 79\n",
      "[PROGRESS]: and ra != 0.          : nb object in cat = 79\n",
      "[PROGRESS]: and dec != 0.         : nb object in cat = 79\n",
      "[PROGRESS]: and z >= 0.00        : nb object in cat = 79\n",
      "[PROGRESS]: and z < 10.00         : nb object in cat = 79\n",
      "[WARNING]: BAL_FLAG_VI not found in /Users/iprafols/Documents/GitHub/stacking/stacking/tests/data/drq_catalogue_plate3655.fits.gz\n",
      "[WARNING OK]: Ignoring\n",
      "[PROGRESS]: Cutting at None objects in the catalogue\n",
      "[PROGRESS]: reading spAll from /Users/iprafols/Documents/GitHub/stacking/stacking/tests/data/spAll-plate3655.fits\n",
      "[PROGRESS]: Found 93 spectra with required THING_ID\n",
      "[PROGRESS]: Found 93 spectra with 'good' plate\n",
      "[PROGRESS]: Found 93 spectra without 0 bit set: SKY\n",
      "[PROGRESS]: Found 93 spectra without 1 bit set: LITTLE_COVERAGE\n",
      "[PROGRESS]: Found 93 spectra without 7 bit set: UNPLUGGED\n",
      "[PROGRESS]: Found 93 spectra without 8 bit set: BAD_TARGET\n",
      "[PROGRESS]: Found 93 spectra without 9 bit set: NODATA\n",
      "[PROGRESS]: # unique objs: 79\n",
      "[PROGRESS]: # spectra: 93\n",
      "[PROGRESS]: Merging with DRQ catalogue\n",
      "[PROGRESS]: reading 4 plates\n",
      "[PROGRESS]: read 79 from spPlate-3655-55240.fits in 0.001 seconds per spec. Progress: 79 of 93\n",
      "[PROGRESS]: read 3 from spPlate-3657-55244.fits in 0.010 seconds per spec. Progress: 82 of 93\n",
      "[PROGRESS]: read 10 from spPlate-9367-57758.fits in 0.004 seconds per spec. Progress: 92 of 93\n",
      "[WARNING]: Error reading /Users/iprafols/Documents/GitHub/stacking/stacking/tests/data/10656/spPlate-10656-58163.fits. Ignoring file\n",
      "[PROGRESS]: Reading catalogue from /Users/iprafols/Documents/GitHub/stacking/stacking/tests/data/drq_catalogue_plate3655.fits.gz\n",
      "[PROGRESS]: Reading HDU 'CATALOG'\n",
      "[PROGRESS]: Catalogue read\n",
      "[PROGRESS]: Assigning groups\n",
      "[PROGRESS]: Groups assigned\n",
      "[PROGRESS]: Reading catalogue from /Users/iprafols/Documents/GitHub/stacking/stacking/tests/data/drq_catalogue_plate3655.fits.gz\n",
      "[PROGRESS]: Reading HDU 'CATALOG'\n",
      "[PROGRESS]: Catalogue read\n",
      "[PROGRESS]: Assigning groups\n",
      "[PROGRESS]: Groups assigned\n"
     ]
    }
   ],
   "source": [
    "from stacking.tests.utils import stacker\n",
    "from stacking.writers.writer_utils import (\n",
    "    get_primary_hdu, get_simple_stack_hdu)"
   ]
  },
  {
   "cell_type": "code",
   "execution_count": 7,
   "id": "9fc084b2-f6a0-4260-aa0a-62017b1de17b",
   "metadata": {},
   "outputs": [
    {
     "name": "stdout",
     "output_type": "stream",
     "text": [
      "\"XTENSION\", \"BITPIX\", \"NAXIS\", \"NAXIS1\", \"NAXIS2\", \"PCOUNT\", \"GCOUNT\", \"TFIELDS\", \"TTYPE1\", \"TFORM1\", \"TDISP1\", \"TTYPE2\", \"TFORM2\", \"TDISP2\", \"TTYPE3\", \"TFORM3\", \"TDISP3\", \"EXTNAME\", "
     ]
    }
   ],
   "source": [
    "hdu = get_simple_stack_hdu(stacker, hdu_name=\"CASE1\")\n",
    "for key in hdu.header.keys():\n",
    "    print(f'\"{key}\",', end=\" \")"
   ]
  },
  {
   "cell_type": "code",
   "execution_count": 12,
   "id": "9446286b-40a2-47ee-ab55-ae784de81342",
   "metadata": {},
   "outputs": [
    {
     "data": {
      "text/plain": [
       "XTENSION= 'BINTABLE'           / binary table extension                         \n",
       "BITPIX  =                    8 / array data type                                \n",
       "NAXIS   =                    2 / number of array dimensions                     \n",
       "NAXIS1  =                   12 / length of dimension 1                          \n",
       "NAXIS2  =                 6989 / length of dimension 2                          \n",
       "PCOUNT  =                    0 / number of group parameters                     \n",
       "GCOUNT  =                    1 / number of groups                               \n",
       "TFIELDS =                    3 / number of table fields                         \n",
       "TTYPE1  = 'WAVELENGTH'         / wavelength array                               \n",
       "TFORM1  = 'E       '           / data format of field: float (32-bit)           \n",
       "TDISP1  = 'F7.3    '           / display format for column                      \n",
       "TTYPE2  = 'STACKED_FLUX'       / normalized stacked flux                        \n",
       "TFORM2  = 'E       '           / data format of field: float (32-bit)           \n",
       "TDISP2  = 'F7.3    '           / display format for column                      \n",
       "TTYPE3  = 'STACKED_WEIGHT'     / total weight in stack flux                     \n",
       "TFORM3  = 'E       '           / data format of field: float (32-bit)           \n",
       "TDISP3  = 'F7.3    '           / display format for column                      \n",
       "EXTNAME = 'CASE1   '           / extension name                                 "
      ]
     },
     "execution_count": 12,
     "metadata": {},
     "output_type": "execute_result"
    }
   ],
   "source": [
    "hdu.header"
   ]
  },
  {
   "cell_type": "code",
   "execution_count": 4,
   "id": "0be5809e-6677-432e-a36c-ffc9c6cd736f",
   "metadata": {},
   "outputs": [
    {
     "name": "stdout",
     "output_type": "stream",
     "text": [
      "Filename: ./data/multiple_regions_normalization_load_norm_factors_fits/normalization_factors.fits.gz\n",
      "No.    Name      Ver    Type      Cards   Dimensions   Format\n",
      "  0  PRIMARY       1 PrimaryHDU      10   ()      \n",
      "  1  NORM_FACTORS    1 BinTableHDU     47   92R x 12C   [E, E, J, E, E, E, J, E, J, E, E, E]   \n",
      "  2  NORM_INTERVALS    1 BinTableHDU     17   2R x 2C   [E, E]   \n",
      "  3  CORRECTION_FACTORS    1 BinTableHDU     17   2R x 2C   [E, J]   \n"
     ]
    }
   ],
   "source": [
    "hdu = fits.open(\"./data/multiple_regions_normalization_load_norm_factors_fits/normalization_factors.fits.gz\")\n",
    "hdu.info()"
   ]
  },
  {
   "cell_type": "code",
   "execution_count": 5,
   "id": "08f48faa-a855-4eac-930e-32b89d396839",
   "metadata": {},
   "outputs": [
    {
     "data": {
      "text/plain": [
       "XTENSION= 'BINTABLE'           / binary table extension                         \n",
       "BITPIX  =                    8 / array data type                                \n",
       "NAXIS   =                    2 / number of array dimensions                     \n",
       "NAXIS1  =                   48 / length of dimension 1                          \n",
       "NAXIS2  =                   92 / length of dimension 2                          \n",
       "PCOUNT  =                    0 / number of group parameters                     \n",
       "GCOUNT  =                    1 / number of groups                               \n",
       "TFIELDS =                   12 / number of table fields                         \n",
       "TTYPE1  = 'norm factor 0'                                                       \n",
       "TFORM1  = 'E       '                                                            \n",
       "TDISP1  = 'F7.3    '                                                            \n",
       "TTYPE2  = 'norm S/N 0'                                                          \n",
       "TFORM2  = 'E       '                                                            \n",
       "TDISP2  = 'F7.3    '                                                            \n",
       "TTYPE3  = 'num pixels 0'                                                        \n",
       "TFORM3  = 'J       '                                                            \n",
       "TDISP3  = 'I4      '                                                            \n",
       "TTYPE4  = 'total weight 0'                                                      \n",
       "TFORM4  = 'E       '                                                            \n",
       "TDISP4  = 'F7.3    '                                                            \n",
       "TTYPE5  = 'norm factor 1'                                                       \n",
       "TFORM5  = 'E       '                                                            \n",
       "TDISP5  = 'F7.3    '                                                            \n",
       "TTYPE6  = 'norm S/N 1'                                                          \n",
       "TFORM6  = 'E       '                                                            \n",
       "TDISP6  = 'F7.3    '                                                            \n",
       "TTYPE7  = 'num pixels 1'                                                        \n",
       "TFORM7  = 'J       '                                                            \n",
       "TDISP7  = 'I4      '                                                            \n",
       "TTYPE8  = 'total weight 1'                                                      \n",
       "TFORM8  = 'E       '                                                            \n",
       "TDISP8  = 'F7.3    '                                                            \n",
       "TTYPE9  = 'specid  '                                                            \n",
       "TFORM9  = 'J       '                                                            \n",
       "TDISP9  = 'I4      '                                                            \n",
       "TTYPE10 = 'norm factor'                                                         \n",
       "TFORM10 = 'E       '                                                            \n",
       "TDISP10 = 'F7.3    '                                                            \n",
       "TTYPE11 = 'norm S/N'                                                            \n",
       "TFORM11 = 'E       '                                                            \n",
       "TDISP11 = 'F7.3    '                                                            \n",
       "TTYPE12 = 'chosen interval'                                                     \n",
       "TFORM12 = 'E       '                                                            \n",
       "TDISP12 = 'F7.3    '                                                            \n",
       "EXTNAME = 'NORM_FACTORS'       / extension name                                 \n",
       "CHECKSUM= '8jJN8hHL8hHL8hHL'   / HDU checksum updated 2023-10-18T17:41:27       \n",
       "DATASUM = '866800885'          / data unit checksum updated 2023-10-18T17:41:27 "
      ]
     },
     "execution_count": 5,
     "metadata": {},
     "output_type": "execute_result"
    }
   ],
   "source": [
    "hdu[1].header"
   ]
  },
  {
   "cell_type": "code",
   "execution_count": 7,
   "id": "4d8f2a10-bd8c-4764-a4fc-1222b3152c4c",
   "metadata": {},
   "outputs": [],
   "source": [
    "hdu[1].data[\"norm factor\"] = NORM_FACTORS[\"norm factor\"]\n",
    "hdu[1].data[\"norm S/N\"] = NORM_FACTORS[\"norm S/N\"]\n",
    "hdu[1].data[\"chosen interval\"] = NORM_FACTORS[\"chosen interval\"]"
   ]
  },
  {
   "cell_type": "code",
   "execution_count": null,
   "id": "c64e26d2-01a2-43de-a0fc-b10899a0683e",
   "metadata": {},
   "outputs": [],
   "source": [
    "hdu.writeto(\"./data/multiple_regions_normalization_load_norm_factors_fits/normalization_factors.fits.gz\", \n",
    "            overwrite=True)"
   ]
  }
 ],
 "metadata": {
  "kernelspec": {
   "display_name": "Python 3 (ipykernel)",
   "language": "python",
   "name": "python3"
  },
  "language_info": {
   "codemirror_mode": {
    "name": "ipython",
    "version": 3
   },
   "file_extension": ".py",
   "mimetype": "text/x-python",
   "name": "python",
   "nbconvert_exporter": "python",
   "pygments_lexer": "ipython3",
   "version": "3.9.13"
  }
 },
 "nbformat": 4,
 "nbformat_minor": 5
}
